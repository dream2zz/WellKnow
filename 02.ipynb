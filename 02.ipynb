{
 "cells": [
  {
   "cell_type": "code",
   "execution_count": null,
   "id": "a2ea338b",
   "metadata": {
    "language_info": {
     "name": "polyglot-notebook"
    },
    "polyglot_notebook": {
     "kernelName": "csharp"
    }
   },
   "outputs": [],
   "source": [
    "#i \"nuget:https://api.nuget.org/v3/index.json\" \n",
    "\n",
    "#r \"nuget: Plotly.NET, 4.2.0\"\n",
    "#r \"nuget: Plotly.NET.Interactive, 4.2.0\""
   ]
  },
  {
   "cell_type": "code",
   "execution_count": null,
   "id": "ab2f6071",
   "metadata": {
    "language_info": {
     "name": "polyglot-notebook"
    },
    "polyglot_notebook": {
     "kernelName": "csharp"
    }
   },
   "outputs": [],
   "source": [
    "using Plotly.NET;\n",
    "\n",
    "var rand = new Random();\n",
    "double[] depth = Enumerable.Range(0, 201).Select(i => (double)i).ToArray(); \n",
    "double[] gr = depth.Select(d => 80 + 30 * Math.Sin(d / 10.0) + (rand.NextDouble() - 0.5) * 8).ToArray();\n",
    "\n",
    "var lineChart = Chart2D.Chart.Line<double, double, string>(\n",
    "    x: depth,\n",
    "    y: gr,\n",
    "    Name: \"示例折线图\"\n",
    ").WithLayout(Layout.init<double>(Width: 1000, Height: 300));\n",
    "display(lineChart)"
   ]
  }
 ],
 "metadata": {
  "kernelspec": {
   "display_name": ".NET (C#)",
   "language": "C#",
   "name": ".net-csharp"
  },
  "language_info": {
   "name": "polyglot-notebook"
  },
  "polyglot_notebook": {
   "kernelInfo": {
    "defaultKernelName": "csharp",
    "items": [
     {
      "aliases": [],
      "name": "csharp"
     }
    ]
   }
  }
 },
 "nbformat": 4,
 "nbformat_minor": 5
}
