{
 "cells": [
  {
   "cell_type": "code",
   "execution_count": 1,
   "id": "ee0b4c81",
   "metadata": {
    "language_info": {
     "name": "polyglot-notebook"
    },
    "polyglot_notebook": {
     "kernelName": "csharp"
    }
   },
   "outputs": [
    {
     "data": {
      "text/html": [
       "<div><div><strong>Restore sources</strong><ul><li><span>https://api.nuget.org/v3/index.json</span></li></ul></div><div></div><div><strong>Installed Packages</strong><ul><li><span>ScottPlot, 5.0.55</span></li></ul></div></div>"
      ]
     },
     "metadata": {},
     "output_type": "display_data"
    },
    {
     "data": {
      "text/plain": [
       "Loading extensions from `C:\\Users\\u01\\.nuget\\packages\\skiasharp\\2.88.9\\interactive-extensions\\dotnet\\SkiaSharp.DotNet.Interactive.dll`"
      ]
     },
     "metadata": {},
     "output_type": "display_data"
    }
   ],
   "source": [
    "#i \"nuget:https://api.nuget.org/v3/index.json\" \n",
    "\n",
    "#r \"nuget:ScottPlot, 5.0.*\""
   ]
  },
  {
   "cell_type": "code",
   "execution_count": null,
   "metadata": {
    "language_info": {
     "name": "polyglot-notebook"
    },
    "polyglot_notebook": {
     "kernelName": "csharp"
    }
   },
   "outputs": [],
   "source": [
    "using Microsoft.DotNet.Interactive.Formatting;\n",
    "Formatter.Register(typeof(ScottPlot.Plot), (p, w) => \n",
    "    w.Write(((ScottPlot.Plot)p).GetPngHtml(1000, 300)), HtmlFormatter.MimeType);"
   ]
  },
  {
   "cell_type": "code",
   "execution_count": null,
   "id": "a3827998",
   "metadata": {
    "language_info": {
     "name": "polyglot-notebook"
    },
    "polyglot_notebook": {
     "kernelName": "csharp"
    }
   },
   "outputs": [],
   "source": [
    "// create sample data\n",
    "var rand = new Random();\n",
    "double[] depth = Enumerable.Range(0, 201).Select(i => (double)i).ToArray(); \n",
    "double[] gr = depth.Select(d => 80 + 30 * Math.Sin(d / 10.0) + (rand.NextDouble() - 0.5) * 8).ToArray();\n",
    "\n",
    "// plot the data\n",
    "ScottPlot.Plot plt = new();\n",
    "plt.Add.Scatter(depth,gr);\n",
    "\n",
    "plt"
   ]
  },
  {
   "cell_type": "code",
   "execution_count": null,
   "metadata": {
    "language_info": {
     "name": "polyglot-notebook"
    },
    "polyglot_notebook": {
     "kernelName": "csharp"
    }
   },
   "outputs": [
    {
     "ename": "Error",
     "evalue": "(13,15): error CS1729: “Plot”不包含采用 2 个参数的构造函数\r\n(3,18): error CS0103: 当前上下文中不存在名称“DataGen”\r\n(14,5): error CS1061: “Plot”未包含“PlotLine”的定义，并且找不到可接受第一个“Plot”类型参数的可访问扩展方法“PlotLine”(是否缺少 using 指令或程序集引用?)\r\n(15,5): error CS1061: “Plot”未包含“PlotLine”的定义，并且找不到可接受第一个“Plot”类型参数的可访问扩展方法“PlotLine”(是否缺少 using 指令或程序集引用?)\r\n(16,5): error CS1061: “Plot”未包含“YAxis”的定义，并且找不到可接受第一个“Plot”类型参数的可访问扩展方法“YAxis”(是否缺少 using 指令或程序集引用?)\r\n(17,5): error CS1955: 不可调用的成员“Plot.Legend”不能像方法一样使用。\r\n(21,1): error CS0619: “Plot.Render(int, int)”已过时:“Call GetImage() to create a new image, RenderInMemory() to force a render for layout purposes, or Render() to render onto an existing SkiaSharp surface or canvas.”",
     "output_type": "error",
     "traceback": [
      "(13,15): error CS1729: “Plot”不包含采用 2 个参数的构造函数\r\n",
      "(3,18): error CS0103: 当前上下文中不存在名称“DataGen”\r\n",
      "(14,5): error CS1061: “Plot”未包含“PlotLine”的定义，并且找不到可接受第一个“Plot”类型参数的可访问扩展方法“PlotLine”(是否缺少 using 指令或程序集引用?)\r\n",
      "(15,5): error CS1061: “Plot”未包含“PlotLine”的定义，并且找不到可接受第一个“Plot”类型参数的可访问扩展方法“PlotLine”(是否缺少 using 指令或程序集引用?)\r\n",
      "(16,5): error CS1061: “Plot”未包含“YAxis”的定义，并且找不到可接受第一个“Plot”类型参数的可访问扩展方法“YAxis”(是否缺少 using 指令或程序集引用?)\r\n",
      "(17,5): error CS1955: 不可调用的成员“Plot.Legend”不能像方法一样使用。\r\n",
      "(21,1): error CS0619: “Plot.Render(int, int)”已过时:“Call GetImage() to create a new image, RenderInMemory() to force a render for layout purposes, or Render() to render onto an existing SkiaSharp surface or canvas.”"
     ]
    }
   ],
   "source": [
    "using ScottPlot;\n",
    "\n",
    "double[] depth = DataGen.Range(1000, 2000, 1);\n",
    "double[] curve1 = depth.Select(d => Math.Sin(d / 100)).ToArray();\n",
    "double[] curve2 = depth.Select(d => Math.Cos(d / 100)).ToArray();\n",
    "\n",
    "// 选择窗口\n",
    "int start = 1200;\n",
    "int end = 1800;\n",
    "int idxStart = Array.IndexOf(depth, start);\n",
    "int idxEnd = Array.IndexOf(depth, end);\n",
    "\n",
    "var plt = new Plot(600, 400);\n",
    "plt.PlotLine(depth[idxStart..idxEnd], curve1[idxStart..idxEnd], label: \"Curve 1\");\n",
    "plt.PlotLine(depth[idxStart..idxEnd], curve2[idxStart..idxEnd], label: \"Curve 2\");\n",
    "plt.YAxis.TickLabelNotation(true); // 深度轴反转\n",
    "plt.Legend();\n",
    "plt.Title(\"多曲线窗口选择\");\n",
    "plt.XLabel(\"Depth\");\n",
    "plt.YLabel(\"Value\");\n",
    "plt.Render();"
   ]
  }
 ],
 "metadata": {
  "kernelspec": {
   "display_name": ".NET (C#)",
   "language": "C#",
   "name": ".net-csharp"
  },
  "language_info": {
   "name": "polyglot-notebook"
  },
  "polyglot_notebook": {
   "kernelInfo": {
    "defaultKernelName": "csharp",
    "items": [
     {
      "aliases": [],
      "name": "csharp"
     }
    ]
   }
  }
 },
 "nbformat": 4,
 "nbformat_minor": 5
}
