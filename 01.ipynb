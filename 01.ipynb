{
 "cells": [
  {
   "cell_type": "code",
   "execution_count": null,
   "id": "ee0b4c81",
   "metadata": {
    "language_info": {
     "name": "polyglot-notebook"
    },
    "polyglot_notebook": {
     "kernelName": "csharp"
    }
   },
   "outputs": [],
   "source": [
    "#i \"nuget:https://api.nuget.org/v3/index.json\" \n",
    "\n",
    "#r \"nuget:ScottPlot, 5.0.*\""
   ]
  },
  {
   "cell_type": "code",
   "execution_count": null,
   "metadata": {
    "language_info": {
     "name": "polyglot-notebook"
    },
    "polyglot_notebook": {
     "kernelName": "csharp"
    }
   },
   "outputs": [],
   "source": [
    "using Microsoft.DotNet.Interactive.Formatting;\n",
    "Formatter.Register(typeof(ScottPlot.Plot), (p, w) => \n",
    "    w.Write(((ScottPlot.Plot)p).GetPngHtml(1000, 300)), HtmlFormatter.MimeType);"
   ]
  },
  {
   "cell_type": "code",
   "execution_count": null,
   "id": "a3827998",
   "metadata": {
    "language_info": {
     "name": "polyglot-notebook"
    },
    "polyglot_notebook": {
     "kernelName": "csharp"
    }
   },
   "outputs": [],
   "source": [
    "// create sample data\n",
    "var rand = new Random();\n",
    "double[] depth = Enumerable.Range(0, 201).Select(i => (double)i).ToArray(); \n",
    "double[] gr = depth.Select(d => 80 + 30 * Math.Sin(d / 10.0) + (rand.NextDouble() - 0.5) * 8).ToArray();\n",
    "\n",
    "// plot the data\n",
    "ScottPlot.Plot plt = new();\n",
    "plt.Add.Scatter(depth,gr);\n",
    "\n",
    "plt"
   ]
  }
 ],
 "metadata": {
  "kernelspec": {
   "display_name": ".NET (C#)",
   "language": "C#",
   "name": ".net-csharp"
  },
  "language_info": {
   "name": "polyglot-notebook"
  },
  "polyglot_notebook": {
   "kernelInfo": {
    "defaultKernelName": "csharp",
    "items": [
     {
      "aliases": [],
      "name": "csharp"
     }
    ]
   }
  }
 },
 "nbformat": 4,
 "nbformat_minor": 5
}
